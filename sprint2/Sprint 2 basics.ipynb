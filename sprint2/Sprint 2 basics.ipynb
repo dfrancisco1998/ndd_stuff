{
 "cells": [
  {
   "cell_type": "code",
   "execution_count": 1,
   "metadata": {},
   "outputs": [],
   "source": [
    "import numpy as np\n",
    "import pandas as pd\n",
    "import matplotlib.pyplot as plt\n",
    "import seaborn as sns\n",
    "from sklearn.metrics import adjusted_rand_score\n",
    "from sklearn.cluster import KMeans\n",
    "\n",
    "from graspologic.embed import AdjacencySpectralEmbed\n",
    "from graspologic.simulations import sbm\n",
    "from graspologic.plot import heatmap, pairplot\n",
    "\n",
    "\n",
    "import warnings\n",
    "warnings.filterwarnings('ignore')\n",
    "np.random.seed(8889)\n",
    "%matplotlib inline"
   ]
  },
  {
   "cell_type": "markdown",
   "metadata": {},
   "source": [
    "## Make data"
   ]
  },
  {
   "cell_type": "code",
   "execution_count": 2,
   "metadata": {},
   "outputs": [],
   "source": [
    "\n",
    "n_verts = 100\n",
    "labels_sbm = n_verts * [0] + n_verts * [1]\n",
    "P = np.array([[0.8, 0.2],\n",
    "              [0.2, 0.8]])\n",
    "\n",
    "# Generate SBMs from parameters\n",
    "undirected_sbm = sbm(2 * [n_verts], P)\n",
    "directed_sbm = sbm(2 * [n_verts], P, directed=True)"
   ]
  },
  {
   "cell_type": "markdown",
   "metadata": {},
   "source": [
    "## Using graspologic ZG(2) method\n",
    "I am a little confused as to whether this is ZG(1) or ZG(2). I think it is ZG(2) because we get two elbow estimations. "
   ]
  },
  {
   "cell_type": "code",
   "execution_count": 3,
   "metadata": {},
   "outputs": [
    {
     "data": {
      "text/plain": [
       "([2, 4], [60.040654885507344, 11.571250884605346])"
      ]
     },
     "execution_count": 3,
     "metadata": {},
     "output_type": "execute_result"
    }
   ],
   "source": [
    "from graspologic.embed import select_dimension\n",
    "select_dimension(undirected_sbm)"
   ]
  },
  {
   "cell_type": "markdown",
   "metadata": {},
   "source": [
    "## Example use of using sklean minka estimation"
   ]
  },
  {
   "cell_type": "code",
   "execution_count": 4,
   "metadata": {},
   "outputs": [],
   "source": [
    "from sklearn.utils.extmath import svd_flip\n",
    "from sklearn.decomposition._pca import _infer_dimension\n",
    "from scipy import linalg\n",
    "X = undirected_sbm.copy()\n",
    "n_components = 'mle'\n",
    "n_samples = X.shape[0]\n",
    "# Center data\n",
    "mean_ = np.mean(X, axis=0)\n",
    "X -= mean_\n",
    "\n",
    "U, S, Vt = linalg.svd(X, full_matrices=False)\n",
    "# flip eigenvectors' sign to enforce deterministic output\n",
    "U, Vt = svd_flip(U, Vt)\n",
    "\n",
    "components_ = Vt\n",
    "\n",
    "# Get variance explained by singular values\n",
    "explained_variance_ = (S ** 2) / (n_samples - 1)\n",
    "total_var = explained_variance_.sum()\n",
    "explained_variance_ratio_ = explained_variance_ / total_var\n",
    "singular_values_ = S.copy()  # Store the singular values.\n",
    "\n",
    "# Postprocess the number of components required\n",
    "if n_components == 'mle':\n",
    "    n_components = \\\n",
    "        _infer_dimension(explained_variance_, n_samples)"
   ]
  },
  {
   "cell_type": "code",
   "execution_count": 5,
   "metadata": {},
   "outputs": [
    {
     "data": {
      "text/plain": [
       "2"
      ]
     },
     "execution_count": 5,
     "metadata": {},
     "output_type": "execute_result"
    }
   ],
   "source": [
    "n_components"
   ]
  },
  {
   "cell_type": "code",
   "execution_count": 13,
   "metadata": {},
   "outputs": [
    {
     "data": {
      "text/plain": [
       "<matplotlib.legend.Legend at 0x2bde6fc65c0>"
      ]
     },
     "execution_count": 13,
     "metadata": {},
     "output_type": "execute_result"
    },
    {
     "data": {
      "image/png": "[encoded data removed]",
      "text/plain": [
       "<Figure size 720x360 with 1 Axes>"
      ]
     },
     "metadata": {
      "needs_background": "light"
     },
     "output_type": "display_data"
    }
   ],
   "source": [
    "from graspologic.plot import screeplot\n",
    "screeplot(X)\n",
    "plt.axvline(2, label='True rank {}'.format(2), color='red')\n",
    "plt.axvline(4, label='Est rank {}'.format(4), color='blue', ls='--')\n",
    "plt.axvline(2, label='Est rank {}'.format(4), color='blue', ls='--')\n",
    "plt.legend()"
   ]
  },
  {
   "cell_type": "code",
   "execution_count": 21,
   "metadata": {},
   "outputs": [
    {
     "data": {
      "text/plain": [
       "10.953765002590819"
      ]
     },
     "execution_count": 21,
     "metadata": {},
     "output_type": "execute_result"
    }
   ],
   "source": [
    "S[4]"
   ]
  },
  {
   "cell_type": "code",
   "execution_count": 32,
   "metadata": {},
   "outputs": [],
   "source": [
    "import scipy\n",
    "D = scipy.sparse.linalg.svds(A=X, k=X.shape[0] - 1, return_singular_vectors=False)"
   ]
  },
  {
   "cell_type": "code",
   "execution_count": 35,
   "metadata": {},
   "outputs": [
    {
     "data": {
      "text/plain": [
       "0.19249476333055776"
      ]
     },
     "execution_count": 35,
     "metadata": {},
     "output_type": "execute_result"
    }
   ],
   "source": []
  },
  {
   "cell_type": "code",
   "execution_count": null,
   "metadata": {},
   "outputs": [],
   "source": []
  }
 ],
 "metadata": {
  "kernelspec": {
   "display_name": "Python 3",
   "language": "python",
   "name": "python3"
  },
  "language_info": {
   "codemirror_mode": {
    "name": "ipython",
    "version": 3
   },
   "file_extension": ".py",
   "mimetype": "text/x-python",
   "name": "python",
   "nbconvert_exporter": "python",
   "pygments_lexer": "ipython3",
   "version": "3.7.3"
  }
 },
 "nbformat": 4,
 "nbformat_minor": 2
}
