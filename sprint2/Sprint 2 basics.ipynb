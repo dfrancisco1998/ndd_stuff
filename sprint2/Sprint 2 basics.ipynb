{
 "cells": [
  {
   "cell_type": "code",
   "execution_count": 1,
   "metadata": {},
   "outputs": [],
   "source": [
    "import numpy as np\n",
    "import pandas as pd\n",
    "import matplotlib.pyplot as plt\n",
    "import seaborn as sns\n",
    "from sklearn.metrics import adjusted_rand_score\n",
    "from sklearn.cluster import KMeans\n",
    "\n",
    "from graspologic.embed import AdjacencySpectralEmbed\n",
    "from graspologic.simulations import sbm\n",
    "from graspologic.plot import heatmap, pairplot\n",
    "\n",
    "\n",
    "import warnings\n",
    "warnings.filterwarnings('ignore')\n",
    "np.random.seed(8889)\n",
    "%matplotlib inline"
   ]
  },
  {
   "cell_type": "markdown",
   "metadata": {},
   "source": [
    "## Make data"
   ]
  },
  {
   "cell_type": "code",
   "execution_count": 2,
   "metadata": {},
   "outputs": [],
   "source": [
    "n_verts = 100\n",
    "labels_sbm = n_verts * [0] + n_verts * [1]\n",
    "P = np.array([[0.8, 0.2],\n",
    "              [0.2, 0.8]])\n",
    "\n",
    "# Generate SBMs from parameters\n",
    "undirected_sbm = sbm(2 * [n_verts], P)\n",
    "directed_sbm = sbm(2 * [n_verts], P, directed=True)"
   ]
  },
  {
   "cell_type": "markdown",
   "metadata": {},
   "source": [
    "## Using graspologic ZG(2) method"
   ]
  },
  {
   "cell_type": "code",
   "execution_count": 3,
   "metadata": {},
   "outputs": [
    {
     "data": {
      "text/plain": [
       "([2, 4], [60.040654885507344, 11.571250884605346])"
      ]
     },
     "execution_count": 3,
     "metadata": {},
     "output_type": "execute_result"
    }
   ],
   "source": [
    "from graspologic.embed import select_dimension\n",
    "select_dimension(undirected_sbm)"
   ]
  },
  {
   "cell_type": "markdown",
   "metadata": {},
   "source": [
    "## Example use of using sklean minka estimation"
   ]
  },
  {
   "cell_type": "code",
   "execution_count": 4,
   "metadata": {},
   "outputs": [],
   "source": [
    "from sklearn.utils.extmath import svd_flip\n",
    "from sklearn.decomposition._pca import _infer_dimension\n",
    "from scipy import linalg\n",
    "\n",
    "def minka(X):\n",
    "    n_components = 'mle'\n",
    "    n_samples = X.shape[0]\n",
    "    U, S, Vt = linalg.svd(X, full_matrices=False)\n",
    "    # flip eigenvectors' sign to enforce deterministic output\n",
    "    U, Vt = svd_flip(U, Vt)\n",
    "\n",
    "    components_ = Vt\n",
    "\n",
    "    # Get variance explained by singular values\n",
    "    explained_variance_ = (S ** 2) / (n_samples - 1)\n",
    "    total_var = explained_variance_.sum()\n",
    "    explained_variance_ratio_ = explained_variance_ / total_var\n",
    "    singular_values_ = S.copy()  # Store the singular values.\n",
    "\n",
    "    # Postprocess the number of components required\n",
    "    if n_components == 'mle':\n",
    "        n_components = \\\n",
    "            _infer_dimension(explained_variance_, n_samples)\n",
    "    return n_components"
   ]
  },
  {
   "cell_type": "code",
   "execution_count": 5,
   "metadata": {},
   "outputs": [
    {
     "data": {
      "text/plain": [
       "3"
      ]
     },
     "execution_count": 5,
     "metadata": {},
     "output_type": "execute_result"
    }
   ],
   "source": [
    "minka(undirected_sbm)"
   ]
  },
  {
   "cell_type": "code",
   "execution_count": 7,
   "metadata": {},
   "outputs": [
    {
     "data": {
      "text/plain": [
       "<matplotlib.legend.Legend at 0x21d7e8c2080>"
      ]
     },
     "execution_count": 7,
     "metadata": {},
     "output_type": "execute_result"
    },
    {
     "data": {
      "image/png": "[encoded data removed]",
      "text/plain": [
       "<Figure size 720x360 with 1 Axes>"
      ]
     },
     "metadata": {
      "needs_background": "light"
     },
     "output_type": "display_data"
    }
   ],
   "source": [
    "from graspologic.plot import screeplot\n",
    "screeplot(undirected_sbm)\n",
    "plt.axvline(2, label='True rank {}'.format(2), color='red')\n",
    "plt.axvline(4, label='Est rank {}'.format(4), color='blue', ls='--')\n",
    "plt.axvline(2, label='Est rank {}'.format(4), color='blue', ls='--')\n",
    "plt.legend()"
   ]
  },
  {
   "cell_type": "code",
   "execution_count": 9,
   "metadata": {},
   "outputs": [],
   "source": [
    "import scipy\n",
    "k = int(np.ceil(np.log2(np.min(undirected_sbm.shape))))\n",
    "D = scipy.sparse.linalg.svds(A=undirected_sbm, k=k, return_singular_vectors=False)\n",
    "D = np.sort(D)[::-1]"
   ]
  },
  {
   "cell_type": "code",
   "execution_count": 10,
   "metadata": {},
   "outputs": [
    {
     "data": {
      "text/plain": [
       "array([98.90493025, 60.04065489, 12.11399685, 11.57125088, 11.23993611,\n",
       "       10.94278271, 10.67831547, 10.43480617])"
      ]
     },
     "execution_count": 10,
     "metadata": {},
     "output_type": "execute_result"
    }
   ],
   "source": [
    "D"
   ]
  },
  {
   "cell_type": "markdown",
   "metadata": {},
   "source": [
    "# Simulation 1\n",
    "\n",
    "So I would like some input about my experiment design!"
   ]
  },
  {
   "cell_type": "markdown",
   "metadata": {},
   "source": [
    "I make a corrupted basis and then add on linear combinations of that basis to the end of matrix. I had anticpated that this would allow me to say that there would be 20 principal components and then in make linear combos I create 15 dependent columns. \n",
    "\n",
    "I sammple from normal distribution to get a matrix, of 20, 20. Then I perform svd to get U the orthongonal basis which would would have the number of columsn of principal components (because they are all independent). \n",
    "\n",
    "then to create the llinear combinations I choose random columns(using randint, discrete uniform) and random.rand created the coefficients to multiply each column by (random samples from a uniform distribution over  0-1). \n",
    "\n",
    "In order to perturb the matrix, a matrix of random numbers (noraml distribution decided upon at each experiment for mu and std) and then to an element wise addition of these two matrices. "
   ]
  },
  {
   "cell_type": "code",
   "execution_count": 11,
   "metadata": {},
   "outputs": [],
   "source": [
    "import random \n",
    "def make_linear_combos(U):\n",
    "    vecs = np.zeros((U.shape[0], 15))\n",
    "    lin_comb = 5\n",
    "    for i in range(vecs.shape[1]):\n",
    "        coefs = np.random.rand(lin_comb,1)\n",
    "        inds = np.random.randint(0,U.shape[1], lin_comb)\n",
    "        for j in range(lin_comb):\n",
    "            vecs[:, i] += U[:, inds[j]] * coefs[j]\n",
    "    return vecs\n",
    "    "
   ]
  },
  {
   "cell_type": "code",
   "execution_count": 12,
   "metadata": {},
   "outputs": [],
   "source": [
    "def make_corrupted_basis(size =20):    \n",
    "    X_sim = np.random.normal(0, 1, (size, size))\n",
    "    U, S, Vt = linalg.svd(X_sim)\n",
    "    # this has rank 10 so we would expect that d chose to be 10 with superfluous parts on matrix\n",
    "    uncorrupted_basis = U[:, :int(size/2)]\n",
    "    v = make_linear_combos(U)\n",
    "    corrupted_basis = np.hstack((uncorrupted_basis, v ))\n",
    "    return corrupted_basis"
   ]
  },
  {
   "cell_type": "code",
   "execution_count": 13,
   "metadata": {},
   "outputs": [],
   "source": [
    "# pertub matrix meaning that we have X + Delta where delta is random noise\n",
    "# noise in this case will be normal \n",
    "def perturb(X, mu, std):\n",
    "    perturb = np.random.normal(mu, std, (X.shape[0], X.shape[1]))\n",
    "    return X + perturb"
   ]
  },
  {
   "cell_type": "code",
   "execution_count": 14,
   "metadata": {},
   "outputs": [],
   "source": [
    "corrupted_basis = make_corrupted_basis()"
   ]
  },
  {
   "cell_type": "code",
   "execution_count": 15,
   "metadata": {},
   "outputs": [
    {
     "data": {
      "text/plain": [
       "[1, 3]"
      ]
     },
     "execution_count": 15,
     "metadata": {},
     "output_type": "execute_result"
    }
   ],
   "source": [
    "select_dimension(corrupted_basis)[0]"
   ]
  },
  {
   "cell_type": "code",
   "execution_count": 16,
   "metadata": {},
   "outputs": [
    {
     "data": {
      "text/plain": [
       "1"
      ]
     },
     "execution_count": 16,
     "metadata": {},
     "output_type": "execute_result"
    }
   ],
   "source": [
    "minka(corrupted_basis)"
   ]
  },
  {
   "cell_type": "markdown",
   "metadata": {},
   "source": [
    "The experiment is as follows we start at 0 perturbation where both minka and ZG(2) should give us the same answer. Then we shall continue to perturb the matrix with larger and larger mu, std, and mu and std(maybe?). We shall graphically see which one changes with more perturbations"
   ]
  },
  {
   "cell_type": "code",
   "execution_count": 64,
   "metadata": {},
   "outputs": [],
   "source": [
    "simulation_size = 50"
   ]
  },
  {
   "cell_type": "markdown",
   "metadata": {},
   "source": [
    "### std"
   ]
  },
  {
   "cell_type": "code",
   "execution_count": 65,
   "metadata": {},
   "outputs": [],
   "source": [
    "stds = np.arange(0, 1.1, .1)\n",
    "std_rem = []\n",
    "mus = np.arange(0, 11, 1)\n",
    "corrupted_basis = make_corrupted_basis()\n",
    "m_est = []\n",
    "zg_est = []\n",
    "for i in range(stds.shape[0]):\n",
    "    zg_helper = []\n",
    "    minka_helper = []\n",
    "    for j in range(simulation_size):\n",
    "        perturbed = perturb(corrupted_basis, 0, stds[i])\n",
    "        zg_helper.append(select_dimension(perturbed)[0])\n",
    "        minka_helper.append(minka(perturbed))\n",
    "    if np.asarray(zg_helper).shape != (simulation_size, 2):\n",
    "        std_rem.append(stds[i])\n",
    "        continue        \n",
    "    m_est.append(np.mean(np.asarray(minka_helper)))    \n",
    "    zg_est.append([np.mean(np.asarray(zg_helper)[:, 0]), np.mean(np.asarray(zg_helper)[:, 1]) ])\n",
    "zg_est = np.asarray(zg_est)\n",
    "m_est = np.asarray(m_est)"
   ]
  },
  {
   "cell_type": "code",
   "execution_count": 66,
   "metadata": {},
   "outputs": [
    {
     "data": {
      "text/plain": [
       "(7,)"
      ]
     },
     "execution_count": 66,
     "metadata": {},
     "output_type": "execute_result"
    }
   ],
   "source": [
    "m_est.shape"
   ]
  },
  {
   "cell_type": "code",
   "execution_count": 67,
   "metadata": {},
   "outputs": [
    {
     "data": {
      "text/plain": [
       "(7, 2)"
      ]
     },
     "execution_count": 67,
     "metadata": {},
     "output_type": "execute_result"
    }
   ],
   "source": [
    "zg_est.shape"
   ]
  },
  {
   "cell_type": "code",
   "execution_count": 68,
   "metadata": {},
   "outputs": [],
   "source": [
    "stds = list(stds)\n",
    "for i in range(len(std_rem)):\n",
    "    stds.remove(std_rem[i])"
   ]
  },
  {
   "cell_type": "code",
   "execution_count": 69,
   "metadata": {},
   "outputs": [
    {
     "data": {
      "image/png": "[encoded data removed]",
      "text/plain": [
       "<Figure size 432x288 with 1 Axes>"
      ]
     },
     "metadata": {
      "needs_background": "light"
     },
     "output_type": "display_data"
    }
   ],
   "source": [
    "import matplotlib.pyplot as plt\n",
    "fig, ax = plt.subplots()\n",
    "\n",
    "ax.plot(stds, m_est,c = 'red', label = 'minka elbow')\n",
    "ax.plot(stds, zg_est[:, 0],c = 'blue', label = 'ZG(2) first elbow')\n",
    "ax.plot(stds, zg_est[:, 1],c = 'green', label = 'ZG(2) second elbow')\n",
    "ax.legend()\n",
    "plt.title(\"how dimensions selection changes with perturbations via std\")\n",
    "ax.set(xlabel = \"standard deviations\", ylabel=\"dimension\")\n",
    "plt.show()\n"
   ]
  },
  {
   "cell_type": "markdown",
   "metadata": {},
   "source": [
    "### mu"
   ]
  },
  {
   "cell_type": "code",
   "execution_count": 70,
   "metadata": {},
   "outputs": [
    {
     "data": {
      "image/png": "[encoded data removed]",
      "text/plain": [
       "<Figure size 432x288 with 1 Axes>"
      ]
     },
     "metadata": {
      "needs_background": "light"
     },
     "output_type": "display_data"
    }
   ],
   "source": [
    "import matplotlib.pyplot as plt\n",
    "\n",
    "stds = np.arange(0, 1.1, .1)\n",
    "std_rem = []\n",
    "mus = np.arange(0, 11, 1)\n",
    "mus_rem = []\n",
    "corrupted_basis = make_corrupted_basis()\n",
    "m_est = []\n",
    "zg_est = []\n",
    "for i in range(mus.shape[0]):\n",
    "    zg_helper = []\n",
    "    minka_helper = []\n",
    "    for j in range(simulation_size):\n",
    "        perturbed = perturb(corrupted_basis, mus[i], 0)\n",
    "        zg_helper.append(select_dimension(perturbed)[0])\n",
    "        minka_helper.append(minka(perturbed))\n",
    "    if np.asarray(zg_helper).shape != (simulation_size, 2):\n",
    "        mus_rem.append(mus[i])\n",
    "        continue        \n",
    "    m_est.append(np.mean(np.asarray(minka_helper)))    \n",
    "    zg_est.append([np.mean(np.asarray(zg_helper)[:, 0]), np.mean(np.asarray(zg_helper)[:, 1]) ])\n",
    "zg_est = np.asarray(zg_est)\n",
    "m_est = np.asarray(m_est)\n",
    "\n",
    "mus = list(mus)\n",
    "for i in range(len(mus_rem)):\n",
    "    mus.remove(mus_rem[i])\n",
    "    \n",
    "\n",
    "fig, ax = plt.subplots()\n",
    "ax.plot(mus, m_est,c = 'red', label = 'minka elbow')\n",
    "ax.plot(mus, zg_est[:, 0],c = 'blue', label = 'ZG(2) first elbow')\n",
    "ax.plot(mus, zg_est[:, 1],c = 'green', label = 'ZG(2) second elbow')\n",
    "ax.legend()\n",
    "plt.title(\"how dimensions selection changes with perturbations via mean\")\n",
    "ax.set(xlabel = \"mean\", ylabel=\"dimension\")\n",
    "plt.show()"
   ]
  },
  {
   "cell_type": "markdown",
   "metadata": {},
   "source": [
    "### mu and std = 1"
   ]
  },
  {
   "cell_type": "code",
   "execution_count": 71,
   "metadata": {},
   "outputs": [
    {
     "data": {
      "image/png": "[encoded data removed]",
      "text/plain": [
       "<Figure size 432x288 with 1 Axes>"
      ]
     },
     "metadata": {
      "needs_background": "light"
     },
     "output_type": "display_data"
    }
   ],
   "source": [
    "import matplotlib.pyplot as plt\n",
    "\n",
    "stds = np.arange(0, 1.1, .1)\n",
    "std_rem = []\n",
    "mus = np.arange(0, 11, 1)\n",
    "mus_rem = []\n",
    "corrupted_basis = make_corrupted_basis()\n",
    "m_est = []\n",
    "zg_est = []\n",
    "for i in range(mus.shape[0]):\n",
    "    zg_helper = []\n",
    "    minka_helper = []\n",
    "    for j in range(simulation_size):\n",
    "        perturbed = perturb(corrupted_basis, mus[i], 1)\n",
    "        zg_helper.append(select_dimension(perturbed)[0])\n",
    "        minka_helper.append(minka(perturbed))\n",
    "    if np.asarray(zg_helper).shape != (simulation_size, 2):\n",
    "        mus_rem.append(mus[i])\n",
    "        continue        \n",
    "    m_est.append(np.mean(np.asarray(minka_helper)))    \n",
    "    zg_est.append([np.mean(np.asarray(zg_helper)[:, 0]), np.mean(np.asarray(zg_helper)[:, 1]) ])\n",
    "zg_est = np.asarray(zg_est)\n",
    "m_est = np.asarray(m_est)\n",
    "\n",
    "mus = list(mus)\n",
    "for i in range(len(mus_rem)):\n",
    "    mus.remove(mus_rem[i])\n",
    "\n",
    "fig, ax = plt.subplots()\n",
    "ax.plot(stds, m_est,c = 'red', label = 'minka elbow')\n",
    "ax.plot(stds, zg_est[:, 0],c = 'blue', label = 'ZG(2) first elbow')\n",
    "ax.plot(stds, zg_est[:, 1],c = 'green', label = 'ZG(2) second elbow')\n",
    "ax.legend()\n",
    "plt.title(\"how dimensions selection changes with perturbations via mean\")\n",
    "ax.set(xlabel = \"mean\", ylabel=\"dimension\")\n",
    "plt.show()"
   ]
  },
  {
   "cell_type": "markdown",
   "metadata": {},
   "source": [
    "What we have just shown above is the stability of ZG compared to minka. Minka appears to always get the Rank (1) correct. and does not suffer much from variation. ZG seems to be a little more sensitive to standard deviation perturbations more than mean. "
   ]
  },
  {
   "cell_type": "markdown",
   "metadata": {},
   "source": [
    "# Simulation 2\n",
    "\n"
   ]
  },
  {
   "cell_type": "code",
   "execution_count": null,
   "metadata": {},
   "outputs": [],
   "source": []
  }
 ],
 "metadata": {
  "kernelspec": {
   "display_name": "Python 3",
   "language": "python",
   "name": "python3"
  },
  "language_info": {
   "codemirror_mode": {
    "name": "ipython",
    "version": 3
   },
   "file_extension": ".py",
   "mimetype": "text/x-python",
   "name": "python",
   "nbconvert_exporter": "python",
   "pygments_lexer": "ipython3",
   "version": "3.7.3"
  }
 },
 "nbformat": 4,
 "nbformat_minor": 2
}
