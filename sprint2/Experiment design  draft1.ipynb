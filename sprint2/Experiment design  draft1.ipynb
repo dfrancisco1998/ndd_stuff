{
 "cells": [
  {
   "cell_type": "markdown",
   "metadata": {},
   "source": [
    "# Simulation 1\n",
    "\n",
    "Procedure of the experiment\n",
    "\n",
    "***\n",
    "We have to note that these function all take in as input a Matrix do the PCA with \n",
    "\n",
    "1.&emsp; Create matrix $A =  S \\Lambda S^{-1}$ by generating eigenvalues with following distributions and corresponding unit norm eigenvectors \n",
    "\n",
    "2.&emsp; The two distributions are (a) $\\lambda_1...\\lambda_{50}$ ~ Uniform(0, 45), $\\lambda_{51}...\\lambda_{100}$ ~ Uniform(55, 100); Here we expect to see that screen plot elbow at 50. For distribution (b) $\\lambda_1...\\lambda_{80}$ ~ Uniform(0, 49), $\\lambda_{81}...\\lambda_{100}$ ~ Uniform(51, 100); Here we expect the elbow to be at 20. \n",
    "\n",
    "3.&emsp; Generate 100 A matrices then take the median of the first elbow guess for ZG(2) and minka from the 100 trials. \n"
   ]
  },
  {
   "cell_type": "markdown",
   "metadata": {},
   "source": [
    "# Simulation 2\n",
    "\n",
    "Procedure of the experiment\n",
    "\n",
    "***\n",
    "\n",
    "This deals with linear subspaces\n",
    "\n",
    "1.&emsp; Randomly generate 5 basis vectors $B = b_1, ..., b_5$ that lie in $R^{50}$\n",
    "\n",
    "2.&emsp; Randomly generate 200 random data points in $R^{50}$ and then add noise. In effect generate 10000 from standard Gaussian and arrange them in Z = 50x200 matrix. \n",
    "\n",
    "3.&emsp; Generate E a 50x200 . $$ E = \\begin{bmatrix} normal(\\mu, \\sigma) & \\dots \\\\ \\vdots & \\ddots & \\\\ \\end{bmatrix}$$ such that $\\mu = 0, \\sigma = .75$\n",
    "\n",
    "4.&emsp; then we do PCA on $A = B(B^T B)^{-1}B^T Z + E $. Note that here we can test how resistant minka and ZG(2) are to noise by changin $\\mu, \\sigma$.\n",
    "\n",
    "5.&emsp; when applying dimension estimation we should see after running 100 trials and taking median from both minka and ZG(2) are 5\n",
    "\n",
    "\n"
   ]
  },
  {
   "cell_type": "markdown",
   "metadata": {},
   "source": [
    "## Nonlinear? Real data? \n",
    "\n",
    "like a swiss roll or using MNIST? "
   ]
  },
  {
   "cell_type": "markdown",
   "metadata": {},
   "source": [
    "# Simulation 3\n",
    "\n",
    "Procedure of the experiment\n",
    "\n",
    "***\n",
    "\n",
    "noise and data density checks\n",
    "\n",
    "NIPS-2000-automatic-choice-of-dimensionality-for-pca-Paper.pdf\n",
    "\n",
    "1.&emsp; Testing high density data N >>> d.  In this case we will have $R^{10}$ and generate random evecs from a standard gaussian distrubtion. We will then have a 10x100 array A. the first 5 dimensions are signal and the last five dimensions are noise. So when doing dimenstion selection we should get output 5\n"
   ]
  },
  {
   "cell_type": "code",
   "execution_count": null,
   "metadata": {},
   "outputs": [],
   "source": []
  }
 ],
 "metadata": {
  "kernelspec": {
   "display_name": "Python 3",
   "language": "python",
   "name": "python3"
  },
  "language_info": {
   "codemirror_mode": {
    "name": "ipython",
    "version": 3
   },
   "file_extension": ".py",
   "mimetype": "text/x-python",
   "name": "python",
   "nbconvert_exporter": "python",
   "pygments_lexer": "ipython3",
   "version": "3.7.3"
  }
 },
 "nbformat": 4,
 "nbformat_minor": 2
}
