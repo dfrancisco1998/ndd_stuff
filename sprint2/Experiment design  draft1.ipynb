{
 "cells": [
  {
   "cell_type": "code",
   "execution_count": 1,
   "metadata": {},
   "outputs": [],
   "source": [
    "import numpy as np\n",
    "import pandas as pd\n",
    "import matplotlib.pyplot as plt\n",
    "import seaborn as sns\n",
    "from sklearn.metrics import adjusted_rand_score\n",
    "from sklearn.cluster import KMeans\n",
    "\n",
    "from graspologic.embed import AdjacencySpectralEmbed\n",
    "from graspologic.simulations import sbm\n",
    "from graspologic.plot import heatmap, pairplot\n",
    "\n",
    "from sklearn.utils.extmath import svd_flip\n",
    "from sklearn.decomposition._pca import _infer_dimension\n",
    "from scipy import linalg\n",
    "\n",
    "import warnings\n",
    "warnings.filterwarnings('ignore')\n",
    "np.random.seed(8889)\n",
    "%matplotlib inline"
   ]
  },
  {
   "cell_type": "markdown",
   "metadata": {},
   "source": [
    "# Simulation 1\n",
    "\n",
    "Procedure of the experiment\n",
    "\n",
    "Automatic dimensionality selection from the scree plot via the use of profile likelihood\n",
    "Mu Zhu∗, Ali Ghodsi\n",
    "\n",
    "***\n",
    "We have to note that these function all take in as input a Matrix do the PCA with \n",
    "\n",
    "1.&emsp; Create matrix $A =  X \\Lambda X^{T}$ by generating eigenvalues with following distributions and corresponding unit norm eigenvectors \n",
    "\n",
    "2.&emsp; The two distributions are (a) $\\lambda_1...\\lambda_{50}$ ~ Uniform(1, 70), $\\lambda_{51}...\\lambda_{100}$ ~ Uniform(90, 160); Here we expect to see that screen plot elbow at 50. For distribution (b) $\\lambda_1...\\lambda_{80}$ ~ Uniform(1, 100), $\\lambda_{81}...\\lambda_{100}$ ~ Uniform(120, 160); Here we expect the elbow to be at 20. Eigenvectors are random orthogonal matrix, drawn from the O(N) Haar distribution (the only uniform distribution on O(N)).\n",
    "\n",
    "3.&emsp; Generate 100 A matrices then take the median of the first elbow guess for ZG(2) and minka from the 100 trials. \n"
   ]
  },
  {
   "cell_type": "code",
   "execution_count": 2,
   "metadata": {},
   "outputs": [],
   "source": [
    "from scipy import linalg\n",
    "from scipy.stats import ortho_group\n",
    "\n",
    "l1 = set()\n",
    "while len(l1) < 50: \n",
    "    l1.add(np.random.randint(1, 70))\n",
    "l2 = set()\n",
    "while len(l2) <50: \n",
    "    l2.add(np.random.randint(90, 160))\n",
    "\n",
    "Lam = np.diag(list(l1) + list(l2))\n",
    "x = ortho_group.rvs(100)\n",
    "A = x @ Lam @ np.transpose(x)"
   ]
  },
  {
   "cell_type": "code",
   "execution_count": 3,
   "metadata": {},
   "outputs": [
    {
     "data": {
      "text/plain": [
       "([4, 6], [154.9999999999998, 152.00000000000006])"
      ]
     },
     "execution_count": 3,
     "metadata": {},
     "output_type": "execute_result"
    }
   ],
   "source": [
    "from graspologic.embed import select_dimension\n",
    "select_dimension(A)"
   ]
  },
  {
   "cell_type": "code",
   "execution_count": 4,
   "metadata": {},
   "outputs": [
    {
     "name": "stdout",
     "output_type": "stream",
     "text": [
      "[251.82741697]\n"
     ]
    }
   ],
   "source": [
    "import numpy as np\n",
    "from sklearn.decomposition import PCA\n",
    "pca = PCA(n_components='mle', svd_solver='full')\n",
    "pca.fit(A)\n",
    "print(pca.explained_variance_)"
   ]
  },
  {
   "cell_type": "code",
   "execution_count": 5,
   "metadata": {
    "scrolled": false
   },
   "outputs": [
    {
     "data": {
      "text/plain": [
       "1"
      ]
     },
     "execution_count": 5,
     "metadata": {},
     "output_type": "execute_result"
    }
   ],
   "source": [
    "from sklearn.utils.extmath import svd_flip\n",
    "from sklearn.decomposition._pca import _infer_dimension\n",
    "from scipy import linalg\n",
    "\n",
    "def minka(X):\n",
    "    n_components = 'mle'\n",
    "    n_samples = X.shape[0]\n",
    "    U, S, Vt = linalg.svd(X, full_matrices=False)\n",
    "    # flip eigenvectors' sign to enforce deterministic output\n",
    "    U, Vt = svd_flip(U, Vt)\n",
    "\n",
    "    components_ = Vt\n",
    "\n",
    "    # Get variance explained by singular values\n",
    "    explained_variance_ = (S ** 2) / (n_samples - 1)\n",
    "    total_var = explained_variance_.sum()\n",
    "    explained_variance_ratio_ = explained_variance_ / total_var\n",
    "    singular_values_ = S.copy()  # Store the singular values.\n",
    "    # Postprocess the number of components required\n",
    "    if n_components == 'mle':\n",
    "        n_components = \\\n",
    "            _infer_dimension(explained_variance_, n_samples)\n",
    "    return n_components\n",
    "\n",
    "minka(A)"
   ]
  },
  {
   "cell_type": "code",
   "execution_count": 6,
   "metadata": {},
   "outputs": [],
   "source": [
    "dims_1 = []\n",
    "dims_2 = []\n",
    "for i in range(100):\n",
    "    l1 = set()\n",
    "    while len(l1) < 50: \n",
    "        l1.add(np.random.randint(1, 70))\n",
    "    l2 = set()\n",
    "    while len(l2) <50: \n",
    "        l2.add(np.random.randint(90, 160))\n",
    "    Lam = np.diag(list(l1) + list(l2))\n",
    "    x = ortho_group.rvs(100)\n",
    "    A = x @ Lam @ np.transpose(x)\n",
    "    d = select_dimension(A)\n",
    "    # due to the function not always returning two element list we only append the first \n",
    "    dims_1.append(d[0][0])\n",
    "    dims_2.append(minka(A))\n",
    "dims_1 = np.asarray(dims_1)\n",
    "dims_2 = np.asarray(dims_2)"
   ]
  },
  {
   "cell_type": "code",
   "execution_count": 7,
   "metadata": {},
   "outputs": [
    {
     "data": {
      "text/plain": [
       "4.0"
      ]
     },
     "execution_count": 7,
     "metadata": {},
     "output_type": "execute_result"
    }
   ],
   "source": [
    "np.median(dims_1)"
   ]
  },
  {
   "cell_type": "code",
   "execution_count": 8,
   "metadata": {},
   "outputs": [
    {
     "data": {
      "text/plain": [
       "1.0"
      ]
     },
     "execution_count": 8,
     "metadata": {},
     "output_type": "execute_result"
    }
   ],
   "source": [
    "np.median(dims_2)"
   ]
  },
  {
   "cell_type": "code",
   "execution_count": 9,
   "metadata": {},
   "outputs": [
    {
     "data": {
      "text/plain": [
       "<matplotlib.legend.Legend at 0x16329041b38>"
      ]
     },
     "execution_count": 9,
     "metadata": {},
     "output_type": "execute_result"
    },
    {
     "data": {
      "image/png": "[encoded data removed]",
      "text/plain": [
       "<Figure size 720x360 with 1 Axes>"
      ]
     },
     "metadata": {
      "needs_background": "light"
     },
     "output_type": "display_data"
    }
   ],
   "source": [
    "from graspologic.plot import screeplot\n",
    "screeplot(A)\n",
    "plt.axvline(50, label='True rank {}'.format(50), color='red')\n",
    "plt.axvline(np.median(dims_1), label='Est rank {} from ZG'.format(np.median(dims_1)), color='blue', ls='--')\n",
    "plt.axvline(np.median(dims_2), label='Est rank {} from minka'.format(np.median(dims_2)), color='green', ls='--')\n",
    "plt.legend()"
   ]
  },
  {
   "cell_type": "markdown",
   "metadata": {},
   "source": [
    "### now with distribution b for eigenvals"
   ]
  },
  {
   "cell_type": "code",
   "execution_count": 10,
   "metadata": {},
   "outputs": [],
   "source": [
    "dims_1 = []\n",
    "dims_2 = []\n",
    "for i in range(100):\n",
    "    l1 = set()\n",
    "    while len(l1) < 80: \n",
    "        l1.add(np.random.randint(1, 100))\n",
    "    l2 = set()\n",
    "    while len(l2) <20: \n",
    "        l2.add(np.random.randint(120, 160))\n",
    "    Lam = np.diag(list(l1) + list(l2))\n",
    "    x = ortho_group.rvs(100)\n",
    "    A = x @ Lam @ np.transpose(x)\n",
    "    d = select_dimension(A)\n",
    "    # due to the function not always returning two element list we only append the first \n",
    "    dims_1.append(d[0][0])\n",
    "    dims_2.append(minka(A)) \n",
    "dims_1 = np.asarray(dims_1)\n",
    "dims_2 = np.asarray(dims_2)"
   ]
  },
  {
   "cell_type": "code",
   "execution_count": 11,
   "metadata": {},
   "outputs": [
    {
     "data": {
      "text/plain": [
       "<matplotlib.legend.Legend at 0x163290fe5f8>"
      ]
     },
     "execution_count": 11,
     "metadata": {},
     "output_type": "execute_result"
    },
    {
     "data": {
      "image/png": "[encoded data removed]",
      "text/plain": [
       "<Figure size 720x360 with 1 Axes>"
      ]
     },
     "metadata": {
      "needs_background": "light"
     },
     "output_type": "display_data"
    }
   ],
   "source": [
    "from graspologic.plot import screeplot\n",
    "screeplot(A)\n",
    "plt.axvline(80, label='True rank {}'.format(80), color='red')\n",
    "plt.axvline(np.median(dims_1), label='Est rank {} from ZG'.format(np.median(dims_1)), color='blue', ls='--')\n",
    "plt.axvline(np.median(dims_2), label='Est rank {} from minka'.format(np.median(dims_2)), color='green', ls='--')\n",
    "plt.legend()"
   ]
  },
  {
   "cell_type": "markdown",
   "metadata": {},
   "source": [
    "\n",
    "# Notes and conlcusion: Though this experiment was taken from ZG paper, it does not perform very well. It does perfrom better than minka howevever. This could be due to the fact that this is not low rank. I propose another simulation simialr to this one but instead it is low rank with an elbow at 3 or four. "
   ]
  },
  {
   "cell_type": "markdown",
   "metadata": {},
   "source": [
    "# Simulation 1.1\n",
    "\n",
    "Procedure of the experiment\n",
    "\n",
    "Automatic dimensionality selection from the scree plot via the use of profile likelihood\n",
    "Mu Zhu∗, Ali Ghodsi\n",
    "\n",
    "***\n",
    "We have to note that these function all take in as input a Matrix do the PCA with \n",
    "\n",
    "1.&emsp; Create matrix $A =  X \\Lambda X^{T}$ by generating eigenvalues with following distributions and corresponding unit norm eigenvectors \n",
    "\n",
    "2.&emsp; The two distributions are (a) $\\lambda_1...\\lambda_{5}$ ~ Uniform(1, 20), $\\lambda_{6}...\\lambda_{10}$ ~ Uniform(40, 60); Here we expect to see that screen plot elbow at 5. For distribution. Eigenvectors are random orthogonal matrix, drawn from the O(N) Haar distribution (the only uniform distribution on O(N)).\n",
    "\n",
    "3.&emsp; Generate 100 A matrices then take the median of the first elbow guess for ZG(2) and minka from the 100 trials. "
   ]
  },
  {
   "cell_type": "code",
   "execution_count": 12,
   "metadata": {},
   "outputs": [],
   "source": [
    "dims_1 = []\n",
    "dims_2 = []\n",
    "for i in range(100):\n",
    "    l1 = set()\n",
    "    while len(l1) < 5: \n",
    "        l1.add(np.random.randint(1, 20))\n",
    "    l2 = set()\n",
    "    while len(l2) <5: \n",
    "        l2.add(np.random.randint(40, 60))\n",
    "    Lam = np.diag(list(l1) + list(l2))\n",
    "    x = ortho_group.rvs(10)\n",
    "    A = x @ Lam @ np.transpose(x)\n",
    "    d = select_dimension(A)\n",
    "    # due to the function not always returning two element list we only append the first \n",
    "    dims_1.append(d[0][0])\n",
    "    dims_2.append(minka(A)) \n",
    "dims_1 = np.asarray(dims_1)\n",
    "dims_2 = np.asarray(dims_2)"
   ]
  },
  {
   "cell_type": "code",
   "execution_count": 13,
   "metadata": {},
   "outputs": [
    {
     "data": {
      "text/plain": [
       "<matplotlib.legend.Legend at 0x1632917ce80>"
      ]
     },
     "execution_count": 13,
     "metadata": {},
     "output_type": "execute_result"
    },
    {
     "data": {
      "image/png": "[encoded data removed]",
      "text/plain": [
       "<Figure size 720x360 with 1 Axes>"
      ]
     },
     "metadata": {
      "needs_background": "light"
     },
     "output_type": "display_data"
    }
   ],
   "source": [
    "from graspologic.plot import screeplot\n",
    "screeplot(A)\n",
    "plt.axvline(4, label='True rank {}'.format(2), color='red')\n",
    "plt.axvline(np.median(dims_1), label='Est rank {} from ZG'.format(np.median(dims_1)), color='blue', ls='--')\n",
    "plt.axvline(np.median(dims_2), label='Est rank {} from minka'.format(np.median(dims_2), color='green', ls='--'))\n",
    "plt.legend()"
   ]
  },
  {
   "cell_type": "markdown",
   "metadata": {},
   "source": [
    "# Simulation 2\n",
    "\n",
    "Procedure of the experiment\n",
    "Automatic dimensionality selection from the scree plot via the use of profile likelihood\n",
    "Mu Zhu∗, Ali Ghodsi\n",
    "\n",
    "***\n",
    "\n",
    "This deals with linear subspaces\n",
    "\n",
    "1.&emsp; Generate 5 basis vectors $B = b_1, ..., b_5$ that lie in $R^{50}$ with Standard normal Gaussian. \n",
    "\n",
    "2.&emsp; Randomly generate 200 random data points in $R^{50}$ and then add noise. In effect generate 10000 from standard Gaussian and arrange them in Z = 50x200 matrix. \n",
    "\n",
    "3.&emsp; Generate E a 50x200 . $$ E = \\begin{bmatrix} normal(\\mu, \\sigma) & \\dots \\\\ \\vdots & \\ddots & \\\\ \\end{bmatrix}$$ such that $\\mu = 0, \\sigma = .75$\n",
    "\n",
    "4.&emsp; then we do PCA on $A = B(B^T B)^{-1}B^T Z + E $. Note that here we can test how resistant minka and ZG(2) are to noise by changin $\\mu, \\sigma$.\n",
    "\n",
    "5.&emsp; when applying dimension estimation we should see after running 100 trials and taking median from both minka and ZG(2) are 5\n",
    "\n",
    "\n"
   ]
  },
  {
   "cell_type": "code",
   "execution_count": 14,
   "metadata": {},
   "outputs": [
    {
     "data": {
      "text/plain": [
       "44"
      ]
     },
     "execution_count": 14,
     "metadata": {},
     "output_type": "execute_result"
    }
   ],
   "source": [
    "a = np.random.normal(0, 1, (50, 5))\n",
    "B, _ = np.linalg.qr(a)\n",
    "Z = np.random.random(size=(50, 200))\n",
    "E = np.random.normal(0, .75, (50, 200))\n",
    "A = (B @ np.linalg.inv(np.transpose(B) @ B) @ np.transpose(B) @ Z) + E\n",
    "minka(A)"
   ]
  },
  {
   "cell_type": "code",
   "execution_count": 15,
   "metadata": {},
   "outputs": [
    {
     "data": {
      "text/plain": [
       "(50, 200)"
      ]
     },
     "execution_count": 15,
     "metadata": {},
     "output_type": "execute_result"
    }
   ],
   "source": [
    "A.shape"
   ]
  },
  {
   "cell_type": "code",
   "execution_count": 16,
   "metadata": {},
   "outputs": [
    {
     "data": {
      "text/plain": [
       "([1, 3], [18.821740975921383, 14.922736774568028])"
      ]
     },
     "execution_count": 16,
     "metadata": {},
     "output_type": "execute_result"
    }
   ],
   "source": [
    "select_dimension(A)"
   ]
  },
  {
   "cell_type": "code",
   "execution_count": 19,
   "metadata": {},
   "outputs": [],
   "source": [
    "dim_minka = []\n",
    "dim_zg = []\n",
    "for i in range(100):\n",
    "    a = np.random.normal(0, .75, (50, 5))\n",
    "    B, _ = np.linalg.qr(a)\n",
    "    Z = np.random.random(size=(50, 200))\n",
    "    E = np.random.normal(0, .75, (50, 200))\n",
    "    A = (B @ np.linalg.inv(np.transpose(B) @ B) @ np.transpose(B) @ Z) + E\n",
    "    dim_minka.append(minka(A))\n",
    "    dim_zg.append(select_dimension(A)[0][0])"
   ]
  },
  {
   "cell_type": "code",
   "execution_count": 20,
   "metadata": {},
   "outputs": [
    {
     "data": {
      "image/png": "[encoded data removed]",
      "text/plain": [
       "<Figure size 576x360 with 1 Axes>"
      ]
     },
     "metadata": {
      "needs_background": "light"
     },
     "output_type": "display_data"
    }
   ],
   "source": [
    "import numpy as np\n",
    "import matplotlib\n",
    "import matplotlib.pyplot as plt\n",
    "\n",
    "#Make a random array and then make it positive-definite\n",
    "U, S, V = np.linalg.svd(A) \n",
    "eigvals = S**2 / np.sum(S**2) \n",
    "\n",
    "fig = plt.figure(figsize=(8,5))\n",
    "sing_vals = np.arange(S.shape[0]) + 1\n",
    "plt.plot(sing_vals, eigvals, 'ro-', linewidth=2)\n",
    "plt.title('Scree Plot')\n",
    "plt.xlabel('Principal Component')\n",
    "plt.ylabel('Eigenvalue')\n",
    "plt.axvline(5, label='True rank {}'.format(5), color='red')\n",
    "plt.axvline(np.median(dim_zg), label='Est rank {} from ZG'.format(np.median(dim_zg)), color='blue', ls='--')\n",
    "plt.axvline(np.median(dim_minka), label='Est rank {} from minka'.format(np.median(dim_minka)), color='green', ls='--')\n",
    "plt.legend()\n",
    "plt.show()"
   ]
  },
  {
   "cell_type": "code",
   "execution_count": null,
   "metadata": {},
   "outputs": [],
   "source": [
    "np.median(dim_zg)"
   ]
  },
  {
   "cell_type": "code",
   "execution_count": null,
   "metadata": {},
   "outputs": [],
   "source": [
    "np.median(dim_minka)"
   ]
  },
  {
   "cell_type": "code",
   "execution_count": null,
   "metadata": {},
   "outputs": [],
   "source": []
  },
  {
   "cell_type": "code",
   "execution_count": null,
   "metadata": {},
   "outputs": [],
   "source": [
    "from graspologic.plot import screeplot\n",
    "screeplot(A)"
   ]
  },
  {
   "cell_type": "markdown",
   "metadata": {},
   "source": [
    "## Nonlinear? Real data? \n",
    "\n",
    "like a swiss roll or using MNIST? "
   ]
  },
  {
   "cell_type": "markdown",
   "metadata": {},
   "source": [
    "# Simulation 3\n",
    "\n",
    "Procedure of the experiment\n",
    "\n",
    "Automatic choice of dimensionality for PCA\n",
    "Thomas P. Minka\n",
    "\n",
    "***\n",
    "\n",
    "noise and data density checks\n",
    "\n",
    "NIPS-2000-automatic-choice-of-dimensionality-for-pca-Paper.pdf\n",
    "\n",
    "1.&emsp; Testing high density data N >>> d.  In this case we will have $R^{10}$ and generate random evecs from a standard gaussian distrubtion. We will then have a 10x100 array A. the first 5 dimensions are signal and the last five dimensions are noise. So when doing dimenstion selection we should get output 5\n"
   ]
  },
  {
   "cell_type": "code",
   "execution_count": null,
   "metadata": {},
   "outputs": [],
   "source": []
  }
 ],
 "metadata": {
  "kernelspec": {
   "display_name": "Python 3",
   "language": "python",
   "name": "python3"
  },
  "language_info": {
   "codemirror_mode": {
    "name": "ipython",
    "version": 3
   },
   "file_extension": ".py",
   "mimetype": "text/x-python",
   "name": "python",
   "nbconvert_exporter": "python",
   "pygments_lexer": "ipython3",
   "version": "3.7.3"
  }
 },
 "nbformat": 4,
 "nbformat_minor": 2
}
